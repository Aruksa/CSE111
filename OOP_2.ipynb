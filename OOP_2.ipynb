{
  "nbformat": 4,
  "nbformat_minor": 0,
  "metadata": {
    "colab": {
      "provenance": [],
      "collapsed_sections": []
    },
    "kernelspec": {
      "name": "python3",
      "display_name": "Python 3"
    },
    "language_info": {
      "name": "python"
    }
  },
  "cells": [
    {
      "cell_type": "code",
      "execution_count": null,
      "metadata": {
        "colab": {
          "base_uri": "https://localhost:8080/"
        },
        "id": "6sr8-JXyuFpS",
        "outputId": "eb90bf6f-2f93-43b9-adea-2a6387808317"
      },
      "outputs": [
        {
          "output_type": "stream",
          "name": "stdout",
          "text": [
            "2\n",
            "*\n",
            "3\n",
            "Let's Calculate!\n",
            "Value 1: 2\n",
            "Operator: *\n",
            "Value 2: 3\n",
            "Result: 6\n"
          ]
        }
      ],
      "source": [
        "#Question 1\n",
        "\n",
        "class Calculator:\n",
        "\n",
        "  def __init__(self,value_1,value_2):\n",
        "\n",
        "    self.value_1 = value_1\n",
        "    self.value_2 = value_2\n",
        "    print(\"Let's Calculate!\")\n",
        "\n",
        "  def add(self):\n",
        "    x = self.value_1 + self.value_2\n",
        "    print(\"Result:\",x)\n",
        "\n",
        "  def subtract(self):\n",
        "    x = self.value_1 - self.value_2\n",
        "    print(\"Result:\",x)\n",
        "\n",
        "  def multiply(self):\n",
        "    x = self.value_1*self.value_2\n",
        "    print(\"Result:\",x)\n",
        "\n",
        "  def divide(self):\n",
        "    x = self.value_1/self.value_2\n",
        "    print(\"Result:\",x)\n",
        "\n",
        "v1 = int(input())\n",
        "op = input()\n",
        "v2 = int(input())\n",
        "value1 = Calculator(v1,v2)\n",
        "\n",
        "if op == \"+\":\n",
        "  print(\"Value 1:\",v1)\n",
        "  print(\"Operator: +\")\n",
        "  print(\"Value 2:\",v2)\n",
        "  value1.add()\n",
        "elif op == \"-\":\n",
        "  print(\"Value 1:\",v1)\n",
        "  print(\"Operator: -\")\n",
        "  print(\"Value 2:\",v2)\n",
        "  value1.subtract()\n",
        "elif op == \"/\":\n",
        "  print(\"Value 1:\",v1)\n",
        "  print(\"Operator: /\")\n",
        "  print(\"Value 2:\",v2)\n",
        "  value1.divide()\n",
        "elif op == \"*\":\n",
        "  print(\"Value 1:\",v1)\n",
        "  print(\"Operator: *\")\n",
        "  print(\"Value 2:\",v2)\n",
        "  value1.multiply()\n"
      ]
    },
    {
      "cell_type": "code",
      "source": [
        "#Question 2\n",
        "\n",
        "class Customer:\n",
        "  def __init__(self,name):\n",
        "    self.name = name \n",
        "\n",
        "  \n",
        "  def greet(self,n=None):\n",
        "    if n == None:\n",
        "      print(\"Hello!\")\n",
        "\n",
        "    else:\n",
        "      print(\"Hello \"+ f\"{self.name}\" + \"!\")\n",
        "\n",
        "  def purchase(self,*m):\n",
        "    c = 0\n",
        "    for i in m:\n",
        "\n",
        "      c = c + 1\n",
        "\n",
        "    print(f\"{self.name}\" + \", you purchased \" + f\"{c}\" + \" items(s):\")\n",
        "\n",
        "    for i in m:\n",
        "\n",
        "      print(f\"{i}\")\n",
        "\n",
        "customer_1 = Customer(\"Sam\")\n",
        "customer_1.greet()\n",
        "customer_1.purchase(\"chips\", \"chocolate\", \"orange juice\")\n",
        "print(\"-----------------------------\")\n",
        "customer_2 = Customer(\"David\")\n",
        "customer_2.greet(\"David\")\n",
        "customer_2.purchase(\"orange juice\")"
      ],
      "metadata": {
        "colab": {
          "base_uri": "https://localhost:8080/"
        },
        "id": "JgEPKAj225dn",
        "outputId": "443155c5-3254-4f14-f375-45f06a3e3bd5"
      },
      "execution_count": null,
      "outputs": [
        {
          "output_type": "stream",
          "name": "stdout",
          "text": [
            "Hello!\n",
            "Sam, you purchased 3 items(s):\n",
            "chips\n",
            "chocolate\n",
            "orange juice\n",
            "-----------------------------\n",
            "Hello David!\n",
            "David, you purchased 1 items(s):\n",
            "orange juice\n"
          ]
        }
      ]
    },
    {
      "cell_type": "code",
      "source": [
        "#Question 3\n",
        "\n",
        "class Panda:\n",
        "\n",
        "  def __init__(self, name, gender, age):\n",
        "\n",
        "    self.name = name\n",
        "    self.gender = gender\n",
        "    self.age = age   \n",
        "  \n",
        "\n",
        "  def sleep(self,slep = None):\n",
        "    self.slep = slep\n",
        "    if  self.slep!= None and self.slep >= 9 and self.slep <= 11:\n",
        "      return (f\"{self.name}\"+\"sleeps \" + f\"{self.slep}\" + \" hours daily and should have Broccoli Chicken\")\n",
        "\n",
        "    elif self.slep!= None and self.slep >= 6 and self.slep <= 8:\n",
        "      return (f\"{self.name}\"+\"sleeps \" + f\"{self.slep}\" + \" hours daily and should have Eggplant & Tofu\")\n",
        "\n",
        "    elif self.slep!=None and self.slep >= 3 and self.slep <= 5:\n",
        "      return (f\"{self.name}\"+\"sleeps \" + f\"{self.slep}\" + \" hours daily and should have Mixed Veggies\")\n",
        "\n",
        "    elif self.slep == None:\n",
        "      return (f\"{self.name}\" + \"'s duration is unknown thus should have only bamboo leaves\")\n",
        "\n",
        "\n",
        "panda1 = Panda(\"Kunfu\",\"Male\", 5)\n",
        "panda2=Panda(\"Pan Pan\",\"Female\",3)\n",
        "panda3=Panda(\"Ming Ming\",\"Female\",8)\n",
        "print(\"{} is a {} Panda Bear who is {} years old\".format(panda1.name,panda1.gender,panda1.age))\n",
        "print(\"{} is a {} Panda Bear who is {} years old\".format(panda2.name,panda2.gender,panda2.age))\n",
        "print(\"{} is a {} Panda Bear who is {} years old\".format(panda3.name,panda3.gender,panda3.age))\n",
        "\n",
        "print(panda2.sleep(10))\n",
        "print(panda1.sleep(4))\n",
        "print(panda3.sleep())\n",
        "\n",
        "\n"
      ],
      "metadata": {
        "colab": {
          "base_uri": "https://localhost:8080/"
        },
        "id": "cstlZ32J84-m",
        "outputId": "64512269-7a74-4ee2-ae44-62e9d48d4d7d"
      },
      "execution_count": null,
      "outputs": [
        {
          "output_type": "stream",
          "name": "stdout",
          "text": [
            "Kunfu is a Male Panda Bear who is 5 years old\n",
            "Pan Pan is a Female Panda Bear who is 3 years old\n",
            "Ming Ming is a Female Panda Bear who is 8 years old\n",
            "Pan Pansleeps 10 hours daily and should have Broccoli Chicken\n",
            "Kunfusleeps 4 hours daily and should have Mixed Veggies\n",
            "Ming Ming's duration is unknown thus should have only bamboo leaves\n"
          ]
        }
      ]
    },
    {
      "cell_type": "code",
      "source": [
        "#Question 4\n",
        "\n",
        "class Cat:\n",
        "  def __init__(self,v1 = None, v2 = None):\n",
        "    self.v1 = v1\n",
        "    self.v2 =v2\n",
        "\n",
        "  def printCat(self):\n",
        "    if self.v1 == None and self.v2 == None:\n",
        "      print(\"White cat is sitting\")\n",
        "\n",
        "    elif self.v1!= None and self.v2== None:\n",
        "      print(self.v1, \"cat is sitting\")\n",
        "\n",
        "    elif self.v1!= None and self.v2!= None:\n",
        "      print(self.v1, \"cat is\", self.v2)\n",
        "\n",
        "  def changeColor(self, v3):\n",
        "    self.v1 = v3\n",
        "\n",
        "c1 = Cat()\n",
        "c2 = Cat(\"Black\")\n",
        "c3 = Cat(\"Brown\", \"jumping\")\n",
        "c4 = Cat(\"Red\", \"purring\")\n",
        "c1.printCat()\n",
        "c2.printCat()\n",
        "c3.printCat()\n",
        "c4.printCat()\n",
        "c1.changeColor(\"Blue\")\n",
        "c3.changeColor(\"Purple\")\n",
        "c1.printCat()\n",
        "c3.printCat()"
      ],
      "metadata": {
        "colab": {
          "base_uri": "https://localhost:8080/"
        },
        "id": "XxJ2MTIyGTDB",
        "outputId": "12720eeb-c82c-4a12-e01c-d05adf4c9055"
      },
      "execution_count": 54,
      "outputs": [
        {
          "output_type": "stream",
          "name": "stdout",
          "text": [
            "White cat is sitting\n",
            "Black cat is sitting\n",
            "Brown cat is jumping\n",
            "Red cat is purring\n",
            "Blue cat is sitting\n",
            "Purple cat is jumping\n"
          ]
        }
      ]
    },
    {
      "cell_type": "code",
      "source": [
        "#Question 5\n",
        "class Vehicle:\n",
        "  def __init__(self, x = 0, y = 0):\n",
        "    self.x = x\n",
        "    self.y = y\n",
        "\n",
        "  def moveUp(self):\n",
        "    \n",
        "    self.y = self.y + 1\n",
        "\n",
        "  def moveDown(self):\n",
        "    \n",
        "    self.y = self.y - 1\n",
        "\n",
        "  def moveLeft(self):\n",
        "  \n",
        "    self.x = self.x - 1 \n",
        "\n",
        "  def moveRight(self):\n",
        "\n",
        "    self.x = self.x + 1\n",
        "\n",
        "  def print_position(self):\n",
        "\n",
        "    print(\"(\"+ f\"{str(self.x)}\" + \",\" + f\"{str(self.y)}\" + \")\")\n",
        "\n",
        "car = Vehicle()\n",
        "car.print_position()\n",
        "car.moveUp()\n",
        "car.print_position()\n",
        "car.moveLeft()\n",
        "car.print_position()\n",
        "car.moveDown()\n",
        "car.print_position()\n",
        "car.moveRight()"
      ],
      "metadata": {
        "id": "E54zP6cm25e2",
        "colab": {
          "base_uri": "https://localhost:8080/"
        },
        "outputId": "435414ae-e85b-47e3-b233-9faf9adc9fd8"
      },
      "execution_count": 63,
      "outputs": [
        {
          "output_type": "stream",
          "name": "stdout",
          "text": [
            "(0,0)\n",
            "(0,1)\n",
            "(-1,1)\n",
            "(-1,0)\n"
          ]
        }
      ]
    }
  ]
}