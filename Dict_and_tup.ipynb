{
  "nbformat": 4,
  "nbformat_minor": 0,
  "metadata": {
    "colab": {
      "provenance": [],
      "collapsed_sections": []
    },
    "kernelspec": {
      "name": "python3",
      "display_name": "Python 3"
    },
    "language_info": {
      "name": "python"
    }
  },
  "cells": [
    {
      "cell_type": "code",
      "execution_count": null,
      "metadata": {
        "colab": {
          "base_uri": "https://localhost:8080/"
        },
        "id": "2r1ofz6R7Fo0",
        "outputId": "bc024e34-dca0-475c-88b6-91e5f8efaa63"
      },
      "outputs": [
        {
          "name": "stdout",
          "output_type": "stream",
          "text": [
            "a:  100, b:   200, c: 3000, d: 40\n",
            "200\n",
            "True\n",
            "3000\n",
            "True\n",
            "40\n",
            "True\n",
            "700\n",
            "False\n",
            "Manush\n",
            "False\n",
            "STOP\n"
          ]
        }
      ],
      "source": [
        "#EASY-1\n",
        "key_value = input()\n",
        "k = key_value.replace(\" \",\"\")\n",
        "\n",
        "dictz = {}\n",
        "\n",
        "number_list = []\n",
        "\n",
        "number_list_2 = []\n",
        "\n",
        "letters = ['a','b','c','d','e','f','g','h','i','j','k','l','m','n','o','p','q','r','s','t','u','v','w','x','y','z']\n",
        "\n",
        "for i in k:\n",
        "\n",
        "  if i in letters:\n",
        "    dictz[i] = 'temp'\n",
        "\n",
        "k2 = k.replace(\":\",\"\")\n",
        "\n",
        "number_list = k2.split(\",\") \n",
        "\n",
        "\n",
        "for i in number_list:\n",
        "\n",
        "  valuez = i[1:]\n",
        "  \n",
        "  number_list_2.append(valuez)\n",
        "\n",
        "c = 0 \n",
        "for j in dictz:\n",
        "\n",
        "  dictz[j] = number_list_2[c]\n",
        "  c = c + 1\n",
        "\n",
        "m = 0\n",
        "while(m!=1):\n",
        "\n",
        "  val = input()\n",
        "  \n",
        "  if val!= 'STOP':\n",
        "\n",
        "    if val not in dictz.values():\n",
        "\n",
        "      print(False)\n",
        "\n",
        "    else:\n",
        "\n",
        "      print(True)\n",
        "\n",
        "  else:\n",
        "\n",
        "     m = m + 1\n",
        "\n",
        "\n"
      ]
    },
    {
      "cell_type": "code",
      "source": [
        "#EASY 2\n",
        "key_value = input()\n",
        "k = key_value.replace(\" \",\"\")\n",
        "k2 = k.split(\",\")\n",
        "dictz = {}\n",
        "\n",
        "k3 = []\n",
        "\n",
        "for i in k2:\n",
        "  k3.append(i.split(\":\"))\n",
        "\n",
        "\n",
        "for i in range(0,len(k3)):\n",
        "\n",
        "  for j in range(0,2):\n",
        "\n",
        "    if j == 0:\n",
        "      dictz[k3[i][j]] = int(k3[i][j+1])\n",
        "\n",
        "    else:\n",
        "      \n",
        "      continue\n",
        "\n",
        "n = dictz.values()\n",
        "sortedz = sorted(n)\n",
        "\n",
        "for key in dictz:\n",
        "\n",
        "  if dictz[key] == sortedz[0]:\n",
        "\n",
        "    print(\"Minimum: \" + f\"{key}\" )\n",
        "  \n",
        "  if dictz[key] == sortedz[-1]:\n",
        "    print(\"Maximum: \" + f\"{key}\")\n",
        "\n",
        "  else:\n",
        "    continue\n"
      ],
      "metadata": {
        "id": "TpgSpx7bOMwo",
        "colab": {
          "base_uri": "https://localhost:8080/"
        },
        "outputId": "caa384c6-ced2-4fd2-eb67-d404d1fda927"
      },
      "execution_count": null,
      "outputs": [
        {
          "output_type": "stream",
          "name": "stdout",
          "text": [
            "Physics: 82, Math : 65,History: 75\n",
            "Maximum: Physics\n",
            "Minimum: Math\n"
          ]
        }
      ]
    },
    {
      "cell_type": "code",
      "source": [
        "4#EASY 3 \n",
        "\n",
        "dictz = {}\n",
        "\n",
        "i = 0 \n",
        "while(i<10):\n",
        "  \n",
        "  val = input()\n",
        "\n",
        "  if val not in dictz:\n",
        "    dictz[val] = 'temp'\n",
        "    i = i + 1\n",
        "\n",
        "  else:\n",
        " \n",
        "    print(\"Enter different number.\")\n",
        "\n",
        "67\n"
      ],
      "metadata": {
        "colab": {
          "base_uri": "https://localhost:8080/"
        },
        "id": "aDOqBCjlOUBA",
        "outputId": "d876304b-2cfb-4bab-96a3-b71c45a5f40f"
      },
      "execution_count": 1,
      "outputs": [
        {
          "name": "stdout",
          "output_type": "stream",
          "text": [
            "101\n",
            "20\n",
            "101\n",
            "Enter different number.\n",
            "20\n",
            "Enter different number.\n",
            "1\n",
            "0\n",
            "1\n",
            "Enter different number.\n",
            "3\n",
            "4\n",
            "\n",
            "7\n",
            "8\n",
            "9\n"
          ]
        }
      ]
    },
    {
      "cell_type": "code",
      "source": [
        "\n",
        "#Medium 1\n",
        "\n",
        "\n",
        "key_value = input()\n",
        "k = key_value.replace(\" \",\"\")\n",
        "k2 = k.split(\",\")\n",
        "dictz = {}\n",
        "\n",
        "k3 = []\n",
        "\n",
        "for i in k2:\n",
        "  k3.append(i.split(\":\"))\n",
        "\n",
        "\n",
        "for i in range(0,len(k3)):\n",
        "\n",
        "  for j in range(0,2):\n",
        "\n",
        "    if j == 0:\n",
        "      dictz[k3[i][j]] = int(k3[i][j+1])\n",
        "\n",
        "    else:\n",
        "      \n",
        "      continue\n",
        "\n",
        "\n",
        "key_value2 = input()\n",
        "k2 = key_value2.replace(\" \",\"\")\n",
        "k22 = k2.split(\",\")\n",
        "dictz2= {}\n",
        "\n",
        "k32 = []\n",
        "\n",
        "for i in k22:\n",
        "  k32.append(i.split(\":\"))\n",
        "\n",
        "\n",
        "for i in range(0,len(k32)):\n",
        "\n",
        "  for j in range(0,2):\n",
        "\n",
        "    if j == 0:\n",
        "      dictz2[k32[i][j]] = int(k32[i][j+1])\n",
        "\n",
        "    else:\n",
        "      \n",
        "      continue\n",
        "\n",
        "\n",
        "dictz3 = {}\n",
        "\n",
        "for i in dictz:\n",
        "\n",
        "  for j in dictz2:\n",
        "\n",
        "    if i == j:\n",
        "\n",
        "      dictz3[i] = dictz[i] + dictz2[j]\n",
        "\n",
        "\n",
        "for i in dictz2:\n",
        "\n",
        "  if i not in dictz3:\n",
        "\n",
        "    dictz3[i] = dictz2[i]\n",
        "\n",
        "for i in dictz:\n",
        "\n",
        "  if i not in dictz3:\n",
        "\n",
        "    dictz3[i] = dictz[i]\n",
        "\n",
        "\n",
        "values = set(dictz3.values())\n",
        "print(dictz3)\n",
        "\n",
        "v = sorted(tuple(values))\n",
        "\n",
        "print(v)"
      ],
      "metadata": {
        "colab": {
          "base_uri": "https://localhost:8080/"
        },
        "id": "6nacN4SROUCh",
        "outputId": "c93e6802-5659-4f5b-d538-fadd56d67a96"
      },
      "execution_count": null,
      "outputs": [
        {
          "output_type": "stream",
          "name": "stdout",
          "text": [
            "a: 100, b: 100, c: 200, d: 300\n",
            "a: 300, b: 200, d: 400, e: 200\n",
            "{'a': 400, 'b': 300, 'd': 700, 'e': 200, 'c': 200}\n",
            "[200, 300, 400, 700]\n"
          ]
        }
      ]
    },
    {
      "cell_type": "code",
      "source": [
        "#Medium 2\n",
        "\n",
        "i = 0\n",
        "dictz = {}\n",
        "\n",
        "while(i<1):\n",
        "\n",
        "  value = input()\n",
        "  \n",
        "  \n",
        "  if value != \"STOP\":\n",
        "\n",
        "    if value not in dictz.keys():\n",
        "      \n",
        "      dictz[value] = 1\n",
        "\n",
        "    else:\n",
        "      \n",
        "      dictz[value] +=1\n",
        "\n",
        "    \n",
        "  else:\n",
        "\n",
        "    i = i + 1\n",
        "\n",
        "\n",
        "for i, j in dictz.items():\n",
        "  print(i, '-', j, 'times')"
      ],
      "metadata": {
        "colab": {
          "base_uri": "https://localhost:8080/"
        },
        "id": "9h-a4TBz62WN",
        "outputId": "34c928b2-80e8-499a-df0e-6af584afee32"
      },
      "execution_count": null,
      "outputs": [
        {
          "output_type": "stream",
          "name": "stdout",
          "text": [
            "10\n",
            "10\n",
            "20\n",
            "20\n",
            "30\n",
            "10\n",
            "50\n",
            "90\n",
            "STOP\n",
            "10 - 3 times\n",
            "20 - 2 times\n",
            "30 - 1 times\n",
            "50 - 1 times\n",
            "90 - 1 times\n"
          ]
        }
      ]
    },
    {
      "cell_type": "code",
      "source": [
        "#Medium 3\n",
        "\n",
        "key_value = input()\n",
        "k = key_value.replace(\" \",\"\")\n",
        "k2 = k.split(\",\")\n",
        "dictz = {}\n",
        "\n",
        "k3 = []\n",
        "\n",
        "for i in k2:\n",
        "  k3.append(i.split(\":\"))\n",
        "\n",
        "\n",
        "for i in range(0,len(k3)):\n",
        "\n",
        "  for j in range(0,2):\n",
        "\n",
        "    if j == 0:\n",
        "      dictz[k3[i][j]] = k3[i][j+1]\n",
        "\n",
        "    else:\n",
        "      \n",
        "      continue\n",
        "\n",
        "dictz3 = {}\n",
        "\n",
        "\n",
        "\n",
        "for i in dictz:\n",
        "\n",
        "  for j in dictz:\n",
        "\n",
        "    if dictz[i] == dictz[j]:\n",
        "\n",
        "      dictz3[dictz[i]] = i\n",
        "\n",
        "\n",
        "for z in dictz3:\n",
        "  l = []\n",
        "  for y in dictz:\n",
        "\n",
        "    if z == dictz[y]:\n",
        "\n",
        "      dictz3[z] = l.append(y)\n",
        "\n",
        "      dictz3[z] = l\n",
        "    \n",
        "print(dictz3)\n"
      ],
      "metadata": {
        "colab": {
          "base_uri": "https://localhost:8080/"
        },
        "id": "HH2wzeZOR3Lk",
        "outputId": "ae350b3d-b8b5-41eb-c290-55398b9d8b88"
      },
      "execution_count": null,
      "outputs": [
        {
          "output_type": "stream",
          "name": "stdout",
          "text": [
            "key1 : value1, key2 : value2, key3 : value1\n",
            "{'value1': ['key1', 'key3'], 'value2': ['key2']}\n"
          ]
        }
      ]
    },
    {
      "cell_type": "code",
      "source": [
        "#Hard 1\n",
        "\n",
        "a = input()\n",
        "b = input()\n",
        "\n",
        "dictz = {}\n",
        "\n",
        "dictz2 = {}\n",
        "\n",
        "for j in a:\n",
        "\n",
        "  if j not in dictz.keys():\n",
        "       \n",
        "    dictz[j] = 1\n",
        "  else:    \n",
        "\n",
        "    dictz[j] +=1\n",
        "\n",
        "\n",
        "for j in b:\n",
        "\n",
        "  if j not in dictz2.keys():\n",
        "      \n",
        "   dictz2[j] = 1\n",
        "\n",
        "  else:\n",
        "      \n",
        "   dictz2[j] +=1\n",
        "\n",
        "if dictz.items() == dictz2.items():\n",
        "\n",
        "  print(\"Those strings are anagrams.\")\n",
        "\n",
        "else:\n",
        "\n",
        "  print(\"Not an anagram.\")\n",
        "\n",
        "\n",
        "\n"
      ],
      "metadata": {
        "id": "xyWqgmxTR3NA",
        "colab": {
          "base_uri": "https://localhost:8080/"
        },
        "outputId": "cc529639-c6b0-4f71-849b-9bd677cd81ff"
      },
      "execution_count": null,
      "outputs": [
        {
          "output_type": "stream",
          "name": "stdout",
          "text": [
            "mutu\n",
            "hagu\n",
            "Not an anagram.\n"
          ]
        }
      ]
    },
    {
      "cell_type": "code",
      "source": [],
      "metadata": {
        "id": "3Ll8XYruUcdm"
      },
      "execution_count": null,
      "outputs": []
    },
    {
      "cell_type": "code",
      "source": [
        "#Hard 2\n",
        "\n",
        "dictz = {0: \" \",1: \".,?!:\",2: \"ABC\",3: \"DEF\", 4: \"GHI\", 5: \"JKL\", 6: \"MNO\", 7: \"PQRS\",8: \"TUV\",9: \"WXYZ\"}\n",
        "\n",
        "val = input()\n",
        "v = val.upper()\n",
        "output = \"\"\n",
        "\n",
        "for c in v:\n",
        "\n",
        "  for i in range(0,len(dictz)):\n",
        "\n",
        "    for j in range(0,len(dictz[i])):\n",
        "\n",
        "      if dictz[i][j] == c:\n",
        "\n",
        "        output += f\"{i}\"\n",
        "      \n",
        "        for y in range(0,j):\n",
        "\n",
        "          output += f\"{i}\"\n",
        "\n",
        "         \n",
        "\n",
        "print(output)\n"
      ],
      "metadata": {
        "colab": {
          "base_uri": "https://localhost:8080/"
        },
        "id": "EFZtnrTYUcfU",
        "outputId": "fdaf7a85-0a23-4091-fe63-edf178f1177a"
      },
      "execution_count": null,
      "outputs": [
        {
          "output_type": "stream",
          "name": "stdout",
          "text": [
            "Hello, World!\n",
            "4433555555666110966677755531111\n"
          ]
        }
      ]
    }
  ]
}