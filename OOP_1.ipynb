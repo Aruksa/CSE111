{
  "nbformat": 4,
  "nbformat_minor": 0,
  "metadata": {
    "colab": {
      "provenance": [],
      "collapsed_sections": []
    },
    "kernelspec": {
      "name": "python3",
      "display_name": "Python 3"
    },
    "language_info": {
      "name": "python"
    }
  },
  "cells": [
    {
      "cell_type": "code",
      "execution_count": null,
      "metadata": {
        "colab": {
          "base_uri": "https://localhost:8080/"
        },
        "id": "qGw1m3DngaVO",
        "outputId": "58696b65-5fec-410f-cb34-253c3c363f96"
      },
      "outputs": [
        {
          "output_type": "stream",
          "name": "stdout",
          "text": [
            "Integer\n",
            "1234\n",
            "=====================\n",
            "String\n",
            "Hello\n",
            "=====================\n",
            "Float\n",
            "4.0\n"
          ]
        }
      ],
      "source": [
        "class DataType:\n",
        "\n",
        "  def __init__(self,name,value):\n",
        "\n",
        "    self.name = name\n",
        "    self.value = value\n",
        "\n",
        "data_type1 = DataType('Integer', 1234)\n",
        "print(data_type1.name)\n",
        "print(data_type1.value)\n",
        "print('=====================')\n",
        "data_type2 = DataType('String', 'Hello')\n",
        "print(data_type2.name)\n",
        "print(data_type2.value)\n",
        "print('=====================')\n",
        "data_type3 = DataType('Float', 4.0)\n",
        "print(data_type3.name)\n",
        "print(data_type3.value)"
      ]
    },
    {
      "cell_type": "code",
      "source": [
        "\n",
        "class Flower:\n",
        "\n",
        "  def __init_(self,name,color,num_of_petal):\n",
        "\n",
        "    self.name = name\n",
        "    self.color = color\n",
        "    self.num_of_petal = num_of_petal\n",
        "\n",
        "\n",
        "flower1 = Flower();\n",
        "flower1.name=\"Rose\"\n",
        "flower1.color=\"Red\"\n",
        "flower1.num_of_petal=6\n",
        "print(\"Name of this flower:\", flower1.name)\n",
        "print(\"Color of this flower:\",flower1.color)\n",
        "print(\"Number of petal:\",flower1.num_of_petal)\n",
        "print('=====================')\n",
        "flower2 = Flower()\n",
        "flower2.name=\"Orchid\"\n",
        "flower2.color=\"Purple\"\n",
        "flower2.num_of_petal=4\n",
        "print(\"Name of this flower:\",flower2.name)\n",
        "print(\"Color of this flower:\",flower2.color)\n",
        "print (\"Number of petal:\",flower2. num_of_petal)\n",
        "\n",
        "print('=====================')\n",
        "print(flower1)\n",
        "print(flower2)\n",
        "print('they are different')\n"
      ],
      "metadata": {
        "colab": {
          "base_uri": "https://localhost:8080/"
        },
        "id": "0sK2bSgQihya",
        "outputId": "44d5aea6-803c-4b73-fa73-d7439a463e70"
      },
      "execution_count": null,
      "outputs": [
        {
          "output_type": "stream",
          "name": "stdout",
          "text": [
            "Name of this flower: Rose\n",
            "Color of this flower: Red\n",
            "Number of petal: 6\n",
            "=====================\n",
            "Name of this flower: Orchid\n",
            "Color of this flower: Purple\n",
            "Number of petal: 4\n",
            "=====================\n",
            "<__main__.Flower object at 0x7f0c94f8c210>\n",
            "<__main__.Flower object at 0x7f0c94f8c390>\n",
            "they are different\n"
          ]
        }
      ]
    },
    {
      "cell_type": "code",
      "source": [
        "class Wadiya():\n",
        "  def __init__(self):\n",
        "    self.name = 'Aladeen'\n",
        "    self.designation = 'President Prime Minister Admiral General'\n",
        "    self.num_of_wife = 100\n",
        "    self.dictator = True\n",
        "\n",
        "wadiya = Wadiya()\n",
        "\n",
        "print('Part 1:')\n",
        "\n",
        "print('Name of Presdident: ' + wadiya.name)\n",
        "print('Designation: ' + wadiya.designation)\n",
        "print('Number of wife: ' , wadiya.num_of_wife)\n",
        "print('Is he/she a dictator: ' , wadiya.dictator)\n",
        "\n",
        "print('Part 2:')\n",
        "wadiya.name = 'Donald Trump'\n",
        "print('Name of President: ',wadiya.name)\n",
        "wadiya.designation = 'President'\n",
        "print('Designation: ', wadiya.designation)\n",
        "wadiya.num_of_wife = 1\n",
        "print('Number of wife: ',wadiya.num_of_wife)\n",
        "wadiya.dictator = False\n",
        "print('Is he/she a dictator: ',wadiya.dictator)\n",
        "\n",
        "print('=====================')\n",
        "\n",
        "print('No, changing had no effect on previous value')\n"
      ],
      "metadata": {
        "colab": {
          "base_uri": "https://localhost:8080/"
        },
        "id": "HDd_lvbCjdwJ",
        "outputId": "c48e1452-7e49-4c3a-e988-9524464aed12"
      },
      "execution_count": null,
      "outputs": [
        {
          "output_type": "stream",
          "name": "stdout",
          "text": [
            "Part 1:\n",
            "Name of Presdident: Aladeen\n",
            "Designation: President Prime Minister Admiral General\n",
            "Number of wife:  100\n",
            "Is he/she a dictator:  True\n",
            "Part 2:\n",
            "Name of President:  Donald Trump\n",
            "Designation:  President\n",
            "Number of wife:  1\n",
            "Is he/she a dictator:  False\n",
            "=====================\n",
            "No, changing had no effect on previous value\n"
          ]
        }
      ]
    },
    {
      "cell_type": "code",
      "source": [
        "class Joker:\n",
        "\n",
        "  def __init__(self,x,y,z):\n",
        "\n",
        "    self.name = x\n",
        "    self.power = y\n",
        "    self.is_he_psycho = z\n",
        "\n",
        "\n",
        "j1 = Joker('Heath Ledger', 'Mind Game', False)\n",
        "print(j1.name)\n",
        "print(j1.power)\n",
        "print(j1.is_he_psycho)\n",
        "print('=====================')\n",
        "j2 = Joker('Joaquin Phoenix', 'Laughing out Loud', True)\n",
        "print(j2.name)\n",
        "print(j2.power)\n",
        "print(j2.is_he_psycho)\n",
        "print('=====================')\n",
        "if j1 == j2:\n",
        "  print('same')\n",
        "else:\n",
        "  print('different because object addresses for two different objects cannot be the same')\n",
        "j2.name = 'Heath Ledger'\n",
        "if j1.name == j2.name:\n",
        "  print('same because the value of name inside both these objects is Heath Ledger')\n",
        "else:\n",
        "  print('different')\n",
        "  "
      ],
      "metadata": {
        "colab": {
          "base_uri": "https://localhost:8080/"
        },
        "id": "lHLviP2sm-uO",
        "outputId": "ed1ec8d7-54e7-4735-ea9c-16be7648c99f"
      },
      "execution_count": null,
      "outputs": [
        {
          "output_type": "stream",
          "name": "stdout",
          "text": [
            "Heath Ledger\n",
            "Mind Game\n",
            "False\n",
            "=====================\n",
            "Joaquin Phoenix\n",
            "Laughing out Loud\n",
            "True\n",
            "=====================\n",
            "different because object addresses for two different objects cannot be the same\n",
            "same because the value of name inside both these objects is Heath Ledger\n"
          ]
        }
      ]
    },
    {
      "cell_type": "code",
      "source": [
        "class Pokemon:\n",
        "\n",
        "  def __init__(self,pokemon1_name, pokemon2_name, pokemon1_power, pokemon2_power, damage_rate):\n",
        "\n",
        "    self.pokemon1_name = pokemon1_name \n",
        "    self.pokemon2_name = pokemon2_name\n",
        "    self.pokemon1_power = pokemon1_power\n",
        "    self.pokemon2_power = pokemon2_power\n",
        "    self.damage_rate = damage_rate\n",
        "\n",
        "\n",
        "team_pika = Pokemon('pikachu', 'charmander', 90, 60, 10)\n",
        "print('=======Team 1=======')\n",
        "print('Pokemon 1:',team_pika.pokemon1_name,\n",
        "team_pika.pokemon1_power)\n",
        "\n",
        "print('Pokemon 2:',team_pika.pokemon2_name,\n",
        "team_pika.pokemon2_power)\n",
        "pika_combined_power = (team_pika.pokemon1_power +\n",
        "team_pika.pokemon2_power) * team_pika.damage_rate\n",
        "print('Combined Power:', pika_combined_power)\n",
        "\n",
        "team_bulb = Pokemon('bulbasaur', 'squirtle',80,70,9)\n",
        "print('=======Team 2=======')\n",
        "print('Pokemon 1:',team_bulb.pokemon1_name,\n",
        "team_bulb.pokemon1_power)\n",
        "\n",
        "print('Pokemon 2:',team_bulb.pokemon2_name,\n",
        "team_bulb.pokemon2_power)\n",
        "bulb_combined_power = (team_bulb.pokemon1_power +\n",
        "team_bulb.pokemon2_power) * team_bulb.damage_rate\n",
        "print('Combined Power:', bulb_combined_power)\n"
      ],
      "metadata": {
        "colab": {
          "base_uri": "https://localhost:8080/"
        },
        "id": "nslnrD98o6B2",
        "outputId": "83f5c4e2-de23-4f17-ba9c-487876c2a6c5"
      },
      "execution_count": null,
      "outputs": [
        {
          "output_type": "stream",
          "name": "stdout",
          "text": [
            "=======Team 1=======\n",
            "Pokemon 1: pikachu 90\n",
            "Pokemon 2: charmander 60\n",
            "Combined Power: 1500\n",
            "=======Team 2=======\n",
            "Pokemon 1: bulbasaur 80\n",
            "Pokemon 2: squirtle 70\n",
            "Combined Power: 1350\n"
          ]
        }
      ]
    }
  ]
}